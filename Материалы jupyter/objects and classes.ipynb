{
 "cells": [
  {
   "cell_type": "markdown",
   "metadata": {},
   "source": [
    "### Объекты и классы101\n",
    "\n",
    "__Определения__:\n",
    " - Класс (class) - описание структуры или типа данных (неформально - описание свойств и возможостей)\n",
    " - Объект (object, instance(от англ. пример, образец)) - конкретная реализация класса в один пример\n",
    " \n",
    "__Примеры__:\n",
    " - Классы: list, string, integer\n",
    " - Объекты: [1,2,3], 'asdf', 42 (соответственно классам выше)\n",
    " \n",
    "Т.е. оъбекты это конкретные примеры класса (который является обобщением для различных объектов)\n",
    "\n",
    "### Зачем нужно знать?\n",
    "1. Чтобы понимать, что написано в чужих кодах и библиотеках\n",
    "2. Чтобы умень читать документацию и понимать о чем идет речь\n",
    "3. Чтобы создавать свои объекты данных и использовать их, где это уместно"
   ]
  },
  {
   "cell_type": "markdown",
   "metadata": {},
   "source": [
    "### Создание класса\n",
    "Рассмотрим пример создания собственного класса и нескольких объектов этого класса\n",
    "\n",
    "- Допустим, мы разрабатываем компьютерную игру, где есть персонажи, которые могут друг с другом взаимодействовать\n",
    "- Каждый персонаж обладает схожими свойствами и возможностями ==> персонаж это класс\n",
    "- Каждый отдельный персонаж в таком случае будет являтся объектом или образцом (instance) класса\n",
    "\n",
    "Попробуем реализовать на простейшем примере"
   ]
  },
  {
   "cell_type": "code",
   "execution_count": 15,
   "metadata": {},
   "outputs": [],
   "source": [
    "# создание собственного класса\n",
    "# еще раз напоминаю, что класс это просто описание объектов\n",
    "class Character:\n",
    "    name = 'Geralt'\n",
    "    def greeting(self, name):\n",
    "        print(f'Hi, {name}, happy to see you!')"
   ]
  },
  {
   "cell_type": "markdown",
   "metadata": {},
   "source": [
    "Рассмотрим этот класс и что он из себя представляет\n",
    "\n",
    "Т.е. посмотрим что **означает** это **описание свойств и возможностей** более конкретно?\n",
    "\n",
    "Класс (как и объект, который данный класс описывает) состоит из двух состовляющих:\n",
    "- атрибуты\n",
    "- методы\n",
    "\n",
    "Неформально:\n",
    "- атрибуты - переменные, которые есть у каждого объекта класса (если они объявляются при создании класса)\n",
    "- методы - функции, котоорые есть у каждого объекта класса (если они объявляются при создании класса)\n",
    "\n",
    "Т.о.:\n",
    "- атрибуты = переменные\n",
    "- методы = функции\n",
    "\n",
    "В нашем классе есть 1 атрибут (name) и 1 метод (greeting)"
   ]
  },
  {
   "cell_type": "code",
   "execution_count": 16,
   "metadata": {},
   "outputs": [],
   "source": [
    "# создание объекта класса\n",
    "# еще раз напоминаю, что объект класса является частным случаем класса\n",
    "# как кстати функция 3^x является частным примером класса показательных функций\n",
    "\n",
    "character1 = Character()\n",
    "# теперь character1 - объект класса Character"
   ]
  },
  {
   "cell_type": "code",
   "execution_count": 17,
   "metadata": {},
   "outputs": [
    {
     "data": {
      "text/plain": [
       "['__class__',\n",
       " '__delattr__',\n",
       " '__dict__',\n",
       " '__dir__',\n",
       " '__doc__',\n",
       " '__eq__',\n",
       " '__format__',\n",
       " '__ge__',\n",
       " '__getattribute__',\n",
       " '__gt__',\n",
       " '__hash__',\n",
       " '__init__',\n",
       " '__init_subclass__',\n",
       " '__le__',\n",
       " '__lt__',\n",
       " '__module__',\n",
       " '__ne__',\n",
       " '__new__',\n",
       " '__reduce__',\n",
       " '__reduce_ex__',\n",
       " '__repr__',\n",
       " '__setattr__',\n",
       " '__sizeof__',\n",
       " '__str__',\n",
       " '__subclasshook__',\n",
       " '__weakref__',\n",
       " 'greeting',\n",
       " 'name']"
      ]
     },
     "execution_count": 17,
     "metadata": {},
     "output_type": "execute_result"
    }
   ],
   "source": [
    "# чтобы посмотреть список всех доступных для объекта методов и атрибутов,\n",
    "# можно воспользоваться встроенной функцией dir()\n",
    "dir(character1)"
   ]
  },
  {
   "cell_type": "code",
   "execution_count": 18,
   "metadata": {},
   "outputs": [
    {
     "data": {
      "text/plain": [
       "'Geralt'"
      ]
     },
     "execution_count": 18,
     "metadata": {},
     "output_type": "execute_result"
    }
   ],
   "source": [
    "# чтобы посмотреть чему равны значения атрибутов (переменных) этого объекта,\n",
    "# можно воспользоваться следующим синтаксисом:\n",
    "character1.name"
   ]
  },
  {
   "cell_type": "code",
   "execution_count": 20,
   "metadata": {},
   "outputs": [
    {
     "name": "stdout",
     "output_type": "stream",
     "text": [
      "Hi, Ciri, happy to see you!\n"
     ]
    }
   ],
   "source": [
    "# то же и с методами:\n",
    "character1.greeting('Ciri')"
   ]
  },
  {
   "cell_type": "code",
   "execution_count": 21,
   "metadata": {},
   "outputs": [
    {
     "data": {
      "text/plain": [
       "'Geralt'"
      ]
     },
     "execution_count": 21,
     "metadata": {},
     "output_type": "execute_result"
    }
   ],
   "source": [
    "# создадим другого персонажа\n",
    "character2 = Character()\n",
    "character2.name"
   ]
  },
  {
   "cell_type": "code",
   "execution_count": 23,
   "metadata": {},
   "outputs": [
    {
     "data": {
      "text/plain": [
       "'Ciri'"
      ]
     },
     "execution_count": 23,
     "metadata": {},
     "output_type": "execute_result"
    }
   ],
   "source": [
    "# хочется чтобы у другого персонажа было другое имя (это ведь другой персонаж)\n",
    "character2.name = 'Ciri'\n",
    "\n",
    "# посмотрим на успешность изменения\n",
    "character2.name"
   ]
  },
  {
   "cell_type": "code",
   "execution_count": 25,
   "metadata": {},
   "outputs": [
    {
     "name": "stdout",
     "output_type": "stream",
     "text": [
      "Hi, Ciri, happy to see you!\n"
     ]
    }
   ],
   "source": [
    "# в таком случае можно сделать наш код более логичным,\n",
    "# изменив метод greeting в описании класса\n",
    "class Character:\n",
    "    name = 'Geralt'\n",
    "    def greeting(self, character):\n",
    "        if character.name:\n",
    "            print(f'Hi, {character.name}, happy to see you!')\n",
    "        else:\n",
    "            print('Is someone here?')\n",
    "        \n",
    "# Теперь любой наш персонаж может приветстовать других персонажей\n",
    "# или говоря более формально может приветствоать любой объект, у которого есть атрибут name\n",
    "# другие объекты он не узнает и задастся вопросом есть ли тут кто?\n",
    "\n",
    "# Попробуем\n",
    "c1 = Character()\n",
    "c2 = Character()\n",
    "c2.name = 'Ciri'\n",
    "\n",
    "c1.greeting(c2)"
   ]
  },
  {
   "cell_type": "markdown",
   "metadata": {},
   "source": [
    "### self в ООП\n",
    "Посмотрим еще раз на определения:\n",
    "- класс - описание всех объектов, ему принадлежащих\n",
    "- объект - частный случай одного класса\n",
    "\n",
    "Т.е. много объектов могут принадлежать одному классу\n",
    "\n",
    "Эту логику мы уже прочувствовали, когда заметили, что у каждого объекта класса есть атрибут name, однако для каждого объекта класса он может быть различным.\n",
    "\n",
    "Поэтому не совсем правильно при создании класса говорить, что name \"по умолчанию\" равен 'Geralt', ведь мы будем создавать различных персонажей, а не только Геральтов\n",
    "\n",
    "Более правильно будет описать в классе просто наличие атрибута name, равного какому-то общему значению по умолчанию, или же пустого вовсе:\n",
    "```python\n",
    "class Character:\n",
    "    name = '<no_name>'\n",
    "    def greeting(self, character):\n",
    "        if character.name:\n",
    "            print(f'Hi, {character.name}, happy to see you!')\n",
    "        else:\n",
    "            print('Is someone here?')\n",
    "```\n",
    "\n",
    "В таком случае создавать объекты класса стоит следующим образом:\n",
    "```python\n",
    "character = Character()\n",
    "character.name = 'Geralt'\n",
    "```\n",
    "\n",
    "Но есть вариант, как сделать это гораздо проще и более правильно (в том смысле, что сейчас если мы самостоятлеьно отдельной строчкой не переименуем нашего персонажа, у него будет имя '<no_name>', что не сосем правильно)\n",
    "\n",
    "Нам хотелось бы при самом создании объекта указывать его имя, а если имя не указано, то сообщать об ошибке\n",
    "\n",
    "Созданием объекта руководит класс, ведь он является обобщением для всех объектов.\n",
    "\n",
    "В таком случае возникает **вопрос: как конролировать индивидуальные атрибуты объекта внутри общего описания объектов (в классе)?**\n",
    "\n",
    "Для этого в классе есть специальная логика, которая позволяет получить сам объект внутри класса и взаимодействовать с ним внутри класса точно так же, как мы взаимодействовали бы с ним вне описания класса\n",
    "\n",
    "Рассмотрим более подробно на примере:"
   ]
  },
  {
   "cell_type": "code",
   "execution_count": 29,
   "metadata": {},
   "outputs": [],
   "source": [
    "class Character:\n",
    "    name = '<no_name>'\n",
    "    def greeting(self, character):\n",
    "        if character.name:\n",
    "            print(f'Hi, {character.name}, happy to see you!')\n",
    "            print(f'My name is {self.name}')\n",
    "        else:\n",
    "            print('Is someone here?')\n",
    "            \n",
    "geralt = Character()\n",
    "geralt.name = 'Geralt'\n",
    "\n",
    "ciri = Character()\n",
    "ciri.name = 'Ciri'"
   ]
  },
  {
   "cell_type": "code",
   "execution_count": 30,
   "metadata": {},
   "outputs": [
    {
     "name": "stdout",
     "output_type": "stream",
     "text": [
      "Hi, Ciri, happy to see you!\n",
      "My name is Geralt\n"
     ]
    }
   ],
   "source": [
    "geralt.greeting(ciri)"
   ]
  },
  {
   "cell_type": "code",
   "execution_count": 31,
   "metadata": {},
   "outputs": [
    {
     "name": "stdout",
     "output_type": "stream",
     "text": [
      "Hi, Geralt, happy to see you!\n",
      "My name is Ciri\n"
     ]
    }
   ],
   "source": [
    "ciri.greeting(geralt)"
   ]
  },
  {
   "cell_type": "markdown",
   "metadata": {},
   "source": [
    "Как мы видим метод greeting класса Character принимает в качестве первого аргумента параметр self\n",
    "\n",
    "Функции внутри класса всегда принимают этот параметр первым и делают это автоматически, именно поэтому при вызове этого метода, мы не указываем чему равен этот параметр:\n",
    "```python\n",
    "geralt.greeting(ciri)\n",
    "# указали только второй параметр: character\n",
    "```\n",
    "\n",
    "Так вот, этот параметр self является указателем или меткой на объект, который вызывает этот метод\n",
    "\n",
    "Т.е. внутри класса мы можем получить конкретный объект, который вызывает действие\n",
    "\n",
    "При получении в функции параметра self, он будет равен тому объекту, кто вызывает эту функцию (метод)\n",
    "\n",
    "Т.о. при вызове \n",
    "```python\n",
    "geralt.greeting(ciri)\n",
    "```\n",
    "Параметр self внутри класса будет равен geralt или одному конкретному объекту этого класса\n",
    "\n",
    "А при вызове\n",
    "```python\n",
    "ciri.greeting(geralt)\n",
    "```\n",
    "Параметр self внутри класса будет равен ciri или одному конкретному объекту этого класса"
   ]
  },
  {
   "cell_type": "markdown",
   "metadata": {},
   "source": [
    "### Magic methods\n",
    "\n",
    "Магические методы - это те же самые методы (функции), только дающие дополнительный функционал.\n",
    "\n",
    "До магических методов мы умели взаимодествовать с классами следующим образом:\n",
    "- создавать объект класса\n",
    "- получать список атрибутов и методов класса\n",
    "- получать и изменять значение арибута класса\n",
    "- вызывать методы класса\n",
    "\n",
    "А что делать, если, скажем, мы хотим сложить два объекта класса?\n",
    "\n",
    "К примеру, мы хотим сложить два объекта класса integer.\n",
    "\n",
    "Или мы хотим чтобы при напечатании объекта клааса, печаталось его имя (пока что при вызове ечати, происходит следующее):\n",
    "```python\n",
    "print(geralt)\n",
    "```\n",
    "`<__main__.Character object at 0x000002915230F6C8>`\n",
    "\n",
    "(можете это проверить)\n",
    "\n",
    "**Ответ - магические методы**\n",
    "\n",
    "(более подробно, к примеру, тут: https://www.tutorialsteacher.com/python/magic-methods-in-python)\n",
    "\n",
    "Рассмотрим пример двух магических методов:\n",
    "- метод `__str__()`: вызывается при применении функции str() к объекту, т.е. при строковой репрезентации объекта\n",
    "- метод `__init__()`: вызывается при создании объекта класса"
   ]
  },
  {
   "cell_type": "code",
   "execution_count": 34,
   "metadata": {},
   "outputs": [
    {
     "name": "stdout",
     "output_type": "stream",
     "text": [
      "<__main__.Character object at 0x000002915230F6C8>\n"
     ]
    }
   ],
   "source": [
    "print(geralt)"
   ]
  },
  {
   "cell_type": "code",
   "execution_count": 35,
   "metadata": {},
   "outputs": [],
   "source": [
    "class Character:\n",
    "    def __init__(self, name):\n",
    "        self.name = name\n",
    "        print(self.name, 'was born!')\n",
    "        \n",
    "    def __str__(self):    \n",
    "        return self.name\n",
    "        \n",
    "    def greeting(self, character):\n",
    "        if character.name:\n",
    "            print(f'Hi, {character.name}, happy to see you!')\n",
    "            print(f'My name is {self.name}')\n",
    "        else:\n",
    "            print('Is someone here?')"
   ]
  },
  {
   "cell_type": "code",
   "execution_count": 36,
   "metadata": {},
   "outputs": [
    {
     "name": "stdout",
     "output_type": "stream",
     "text": [
      "Geralt was born!\n",
      "Ciri was born!\n"
     ]
    }
   ],
   "source": [
    "# т.к. мы объявили, что при создании объекта класса (метод __init__)\n",
    "# требуется указать еще один параметр - name, то нам необходимо его послать,\n",
    "# иначе код выдаст ошибку\n",
    "geralt = Character(name='Geralt')\n",
    "# или можно еще проще\n",
    "ciri = Character('Ciri')"
   ]
  },
  {
   "cell_type": "code",
   "execution_count": 37,
   "metadata": {},
   "outputs": [
    {
     "name": "stdout",
     "output_type": "stream",
     "text": [
      "Geralt\n"
     ]
    }
   ],
   "source": [
    "print(geralt)"
   ]
  },
  {
   "cell_type": "code",
   "execution_count": 38,
   "metadata": {},
   "outputs": [
    {
     "name": "stdout",
     "output_type": "stream",
     "text": [
      "Hi, Ciri, happy to see you!\n",
      "My name is Geralt\n"
     ]
    }
   ],
   "source": [
    "geralt.greeting(ciri)"
   ]
  },
  {
   "cell_type": "markdown",
   "metadata": {},
   "source": [
    "Это все по введению в классы\n",
    "\n",
    "Понимания этого материала должно быть достаточно для того, чтобы самостоятельно разобраться с любой библиотекой и любой задачей\n",
    "\n",
    "На следующем занятии будет работа с библиотекой для машинного обучения, которая построена на принципах объектно-ориентированного программирования. С помощью классов, описанных в этой библиотеке, мы сможем создавать свои объекты, представляющие из себя отдельные модели машинного обучения и использовать их для различных задач"
   ]
  }
 ],
 "metadata": {
  "kernelspec": {
   "display_name": "python3.7",
   "language": "python",
   "name": "python3.7"
  },
  "language_info": {
   "codemirror_mode": {
    "name": "ipython",
    "version": 3
   },
   "file_extension": ".py",
   "mimetype": "text/x-python",
   "name": "python",
   "nbconvert_exporter": "python",
   "pygments_lexer": "ipython3",
   "version": "3.7.9"
  }
 },
 "nbformat": 4,
 "nbformat_minor": 4
}
