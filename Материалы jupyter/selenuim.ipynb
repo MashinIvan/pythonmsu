{
 "cells": [
  {
   "cell_type": "markdown",
   "metadata": {},
   "source": [
    "### selenuim 101\n",
    "\n",
    "__Ducomentation__:\n",
    "[selenium](https://selenium-python.readthedocs.io/)\n",
    " \n",
    "__Installation__:\n",
    "> pip install selenium\n",
    "\n",
    "__Quick start__:\n",
    "```python\n",
    "from selenium import webdriver\n",
    "\n",
    "resp = requests.get('https://www.imdb.com/chart/top/')\n",
    "soup = bs(resp.text)\n",
    "\n",
    "films_list = soup.find('tbody', {'class': 'lister-list'})\n",
    "films = films_list.find_all('tr')\n",
    "```\n",
    "\n",
    "__Most common imports__:\n",
    "```python\n",
    "from selenium import webdriver\n",
    "\n",
    "from selenium.webdriver.support.ui import WebDriverWait \n",
    "from selenium.webdriver.common.by import By\n",
    "from selenium.webdriver.support import expected_conditions as EC\n",
    "\n",
    "from selenium.webdriver.common.keys import Keys\n",
    "```\n",
    "\n",
    "__Search query methods basics__:\n",
    "```python\n",
    "driver.find_element_by_tag_name(tagname)  # returns first occurance\n",
    "driver.find_elements_by_tag_name(tagname)  # return a list\n",
    "\n",
    "driver.find_elements_by_xpath('//tagname[@attr=\"value\"]')\n",
    "\n",
    "# to find out all options see\n",
    "dir(driver)\n",
    "```\n",
    "\n",
    "__Helpful methods__:\n",
    "```python\n",
    "element = driver.find_element_by_tag_name(tagname)\n",
    "\n",
    "element.click()\n",
    "element.send_keys('your_text')\n",
    "element.send_keys(Keys.RETURN)\n",
    "```"
   ]
  },
  {
   "cell_type": "markdown",
   "metadata": {},
   "source": [
    "### Scraping kinopoisk"
   ]
  },
  {
   "cell_type": "code",
   "execution_count": 18,
   "metadata": {},
   "outputs": [],
   "source": [
    "from selenium import webdriver\n",
    "\n",
    "from selenium.webdriver.support.ui import WebDriverWait \n",
    "from selenium.webdriver.common.by import By\n",
    "from selenium.webdriver.support import expected_conditions as EC\n",
    "\n",
    "import time"
   ]
  },
  {
   "cell_type": "code",
   "execution_count": 21,
   "metadata": {},
   "outputs": [],
   "source": [
    "# driver setup\n",
    "path = r'C:\\Users\\mivan\\OneDrive\\Рабочий стол\\cian\\chromedriver.exe'\n",
    "driver = webdriver.Chrome(path)"
   ]
  },
  {
   "cell_type": "code",
   "execution_count": 55,
   "metadata": {},
   "outputs": [],
   "source": [
    "def parse_film(film_obj):\n",
    "    return {\n",
    "        'name': film_obj.find_element_by_class_name('selection-film-item-meta__name').text,\n",
    "        'year': int(film_obj.find_element_by_class_name(\n",
    "            'selection-film-item-meta__original-name').text.split(',')[-1]),\n",
    "        'countries': film_obj.find_element_by_class_name(\n",
    "            'selection-film-item-meta__meta-additional-item').text.split(','),\n",
    "        'genres': film_obj.find_elements_by_class_name(\n",
    "            'selection-film-item-meta__meta-additional-item')[1].text.split(',')\n",
    "    }"
   ]
  },
  {
   "cell_type": "code",
   "execution_count": 56,
   "metadata": {},
   "outputs": [],
   "source": [
    "pages = 9\n",
    "url = 'https://www.kinopoisk.ru/lists/top250/?tab=all&page={}'\n",
    "\n",
    "films = []\n",
    "for i in range(pages):\n",
    "    driver.get(url.format(i+1))\n",
    "    \n",
    "    # wait until needed data is loaded\n",
    "    films_set = WebDriverWait(driver, 10).until(\n",
    "        EC.presence_of_element_located(\n",
    "            (By.XPATH, '//div[@class=\"selection-list\"]'))\n",
    "    )\n",
    "    # xpath basic template: '//tagname[@attr=value]'\n",
    "    films += [parse_film(film)\n",
    "              for film in films_set.find_elements_by_class_name('desktop-rating-selection-film-item')]\n",
    "\n",
    "driver.close()"
   ]
  },
  {
   "cell_type": "code",
   "execution_count": 60,
   "metadata": {
    "scrolled": true
   },
   "outputs": [
    {
     "data": {
      "text/plain": [
       "{'name': 'Побег из Шоушенка',\n",
       " 'year': 1994,\n",
       " 'countries': ['США'],\n",
       " 'genres': ['драма']}"
      ]
     },
     "execution_count": 60,
     "metadata": {},
     "output_type": "execute_result"
    }
   ],
   "source": [
    "films[0]"
   ]
  },
  {
   "cell_type": "markdown",
   "metadata": {},
   "source": [
    "### Scraping cian"
   ]
  },
  {
   "cell_type": "code",
   "execution_count": null,
   "metadata": {},
   "outputs": [],
   "source": [
    "path = 'chromedriver.exe'\n",
    "driver = webdriver.Chrome(path)"
   ]
  },
  {
   "cell_type": "code",
   "execution_count": 65,
   "metadata": {},
   "outputs": [],
   "source": [
    "url = 'https://www.cian.ru/cat.php?deal_type=rent&engine_version=2&offer_type=flat&region=1&room1=1&room2=1&room3=1&room4=1&room5=1&room6=1&type=4'"
   ]
  }
 ],
 "metadata": {
  "kernelspec": {
   "display_name": "python3.7",
   "language": "python",
   "name": "python3.7"
  },
  "language_info": {
   "codemirror_mode": {
    "name": "ipython",
    "version": 3
   },
   "file_extension": ".py",
   "mimetype": "text/x-python",
   "name": "python",
   "nbconvert_exporter": "python",
   "pygments_lexer": "ipython3",
   "version": "3.7.9"
  }
 },
 "nbformat": 4,
 "nbformat_minor": 4
}
